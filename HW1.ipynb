{
 "cells": [
  {
   "cell_type": "code",
   "execution_count": 1,
   "metadata": {},
   "outputs": [
    {
     "name": "stdout",
     "output_type": "stream",
     "text": [
      "Reading data...\n"
     ]
    }
   ],
   "source": [
    "import numpy as np\n",
    "from urllib.request import urlopen\n",
    "import scipy.optimize\n",
    "import random\n",
    "from sklearn import svm\n",
    "from sklearn import linear_model\n",
    "import gzip\n",
    "import ast\n",
    "import demjson\n",
    "\n",
    "def parseDataFromURL(fname):\n",
    "  for l in urlopen(fname):\n",
    "    yield eval(l)\n",
    "\n",
    "def parseData(fname):\n",
    "  for l in open(fname):\n",
    "    yield eval(l)\n",
    "\n",
    "print(\"Reading data...\")\n",
    "# Download from http://cseweb.ucsd.edu/classes/fa19/cse258-a/data/beer_50000.json\n",
    "#data = list(parseData(\"fantasy_10000.json.gz\"))\n",
    "\n",
    "def readData1(path):\n",
    "    x = gzip.open(path)\n",
    "    for l in x:\n",
    "        yield demjson.decode(l)\n",
    "\n",
    "dataset = []\n",
    "\n",
    "for l in readData1('C:/Users/brand/Desktop/fantasy_10000.json.gz'):\n",
    "    dataset.append(l)\n",
    "    \n",
    "print('done')"
   ]
  },
  {
   "cell_type": "code",
   "execution_count": 17,
   "metadata": {},
   "outputs": [
    {
     "name": "stdout",
     "output_type": "stream",
     "text": [
      "[6.87371675e-05]\n",
      "3.685681355016952\n",
      "Sse value: 15522.08662235535\n",
      "MSE value: 1.5522086622355349\n",
      "R squared value: 0.0031745955412257887\n",
      "0.0031745955412239013\n"
     ]
    }
   ],
   "source": [
    "from sklearn.linear_model import LinearRegression\n",
    "\n",
    "def features(obs):\n",
    "    review_len = len(obs['review_text'])\n",
    "    feature = [review_len]\n",
    "    \n",
    "    return feature \n",
    "\n",
    "X = [features(d) for d in dataset]\n",
    "\n",
    "Y = [d['rating'] for d in dataset]\n",
    "\n",
    "reg = LinearRegression().fit(X,Y)\n",
    "\n",
    "#reg.score(X,Y)\n",
    "\n",
    "print(reg.coef_)\n",
    "print(reg.intercept_)\n",
    "\n",
    "#theta0 = 3.686\n",
    "#theta1 = .6874 e-05\n",
    "\n",
    "y_pred = reg.predict(X)\n",
    "\n",
    "sse = sum([x**2 for x in (Y - y_pred)])\n",
    "print(\"Sse value: \" + str(sse))\n",
    "\n",
    "\n",
    "mse = sse/len(Y)\n",
    "print(\"MSE value: \" + str(mse))\n",
    "\n",
    "\n",
    "fvu = mse/np.var(Y)\n",
    "r2 = 1 - fvu\n",
    "print(\"R squared value: \" + str(r2))\n",
    "\n",
    "print(reg.score(X,Y))"
   ]
  },
  {
   "cell_type": "code",
   "execution_count": 90,
   "metadata": {},
   "outputs": [
    {
     "name": "stdout",
     "output_type": "stream",
     "text": [
      "[2086    0    0    0    0    0    0    0    0    0    0    0    0    0\n",
      "    0    0    0    0]\n",
      "[1521    0    0    1    0    0    0    0    0    0    0    0    0    0\n",
      "    0    1    0    0]\n",
      "[1519    0    0    0    0    0    1    0    0    0    0    0    0    0\n",
      "    0    1    0    0]\n",
      "[1791    0    1    0    0    0    0    0    0    0    0    0    0    1\n",
      "    0    0    0    0]\n",
      "2017 2006\n"
     ]
    }
   ],
   "source": [
    "import dateutil.parser\n",
    "import sklearn.preprocessing\n",
    "\n",
    "\n",
    "\n",
    "def one_hot_encoder(value, numb):\n",
    "    lst = np.zeros(numb, dtype=int)\n",
    "    if value >= numb:\n",
    "        return lst\n",
    "    \n",
    "    else:\n",
    "        lst[value] = 1\n",
    "    \n",
    "    return lst\n",
    "    \n",
    "\n",
    "\n",
    "def features2(obs):\n",
    "    lst = []\n",
    "    lst.append(len(obs['review_text']))\n",
    "    lst = np.array(lst)\n",
    "    t = dateutil.parser.parse(obs['date_added'])\n",
    "    day = t.weekday()\n",
    "    day2 = one_hot_encoder(day,6)\n",
    "    year = t.year\n",
    "    year2 = one_hot_encoder(year-2006,11)\n",
    "    feature = np.concatenate((lst,day2))\n",
    "    feature2 = np.concatenate((feature,year2))\n",
    "    \n",
    "   \n",
    "    \n",
    "    return feature2\n",
    "\n",
    "\n",
    "X2 = [features2(d) for d in dataset]\n",
    "\n",
    "Y = [d['rating'] for d in dataset]\n",
    "\n",
    "print(X2[0])\n",
    "print(X2[1])\n",
    "print(X2[2])\n",
    "print(X2[3])\n",
    "\n",
    "years = []\n",
    "\n",
    "for i in dataset:\n",
    "    t = dateutil.parser.parse(i['date_added'])\n",
    "    years.append(t.year)\n",
    "\n",
    "print(max(years), min(years))\n",
    "\n"
   ]
  },
  {
   "cell_type": "code",
   "execution_count": 95,
   "metadata": {},
   "outputs": [
    {
     "name": "stdout",
     "output_type": "stream",
     "text": [
      "[ 5.15709386e-05 -1.02846903e-01 -5.39465593e-02  4.28628944e-02\n",
      "  3.79949935e-03  2.33214129e-02 -6.45051374e-02  1.23331225e+00\n",
      " -3.49135580e-01 -4.71161916e-01 -4.49848314e-01 -4.36926796e-01\n",
      " -3.95457762e-01  3.37452018e-02  1.28864086e-01  1.41688638e-01\n",
      "  2.46987133e-02 -3.16261788e-03]\n",
      "3.741249443893825\n",
      "Sse value: 15123.578656428259\n",
      "MSE value: 1.5123578656428258\n",
      "R squared value: 0.028766700132575984\n",
      "0.028766700132579537\n"
     ]
    }
   ],
   "source": [
    "reg2 = LinearRegression().fit(X2,Y)\n",
    "\n",
    "#reg.score(X,Y)\n",
    "\n",
    "print(reg.coef_)\n",
    "print(reg.intercept_)\n",
    "\n",
    "#theta0 = ....\n",
    "\n",
    "\n",
    "y_pred2 = reg2.predict(X2)\n",
    "\n",
    "sse2 = sum([x**2 for x in (Y - y_pred2)])\n",
    "print(\"Sse value: \" + str(sse2))\n",
    "\n",
    "\n",
    "mse2 = sse2/len(Y)\n",
    "print(\"MSE value: \" + str(mse2))\n",
    "\n",
    "\n",
    "fvu2 = mse2/np.var(Y)\n",
    "r22 = 1 - fvu2\n",
    "print(\"R squared value: \" + str(r22))\n",
    "\n",
    "print(reg2.score(X2,Y))"
   ]
  },
  {
   "cell_type": "code",
   "execution_count": 106,
   "metadata": {},
   "outputs": [
    {
     "name": "stdout",
     "output_type": "stream",
     "text": [
      "[ 9.49609324e-05 -8.80368162e-02 -5.46549635e-02  8.00866057e-02\n",
      "  6.37678470e-02  1.12167502e-02 -7.35092799e-02  1.22496269e+00\n",
      "  8.18439941e-02  1.34707568e-01 -1.15313297e-01 -4.53081775e-01\n",
      " -4.54220284e-01  7.74288019e-02  2.58825893e-01  1.59453915e-01\n",
      " -1.34961867e-03  6.42201556e-02]\n",
      "3.683515741140291\n",
      "Sse value on test set: 8201.205573099032\n",
      "Sse value on train set: 7200.746471339537\n",
      "MSE value on test set: 1.6402411146198064\n",
      "MSE value on train set: 1.4401492942679073\n"
     ]
    }
   ],
   "source": [
    "X_train = X2[0:5000]\n",
    "X_test = X2[5000:]\n",
    "Y_train = Y[0:5000]\n",
    "Y_test = Y[5000:]\n",
    "\n",
    "reg3 = LinearRegression().fit(X_train,Y_train)\n",
    "\n",
    "#reg.score(X,Y)\n",
    "\n",
    "print(reg3.coef_)\n",
    "print(reg3.intercept_)\n",
    "\n",
    "#theta0 = ....\n",
    "\n",
    "\n",
    "y_pred3 = reg3.predict(X_test)\n",
    "y_predtrain = reg3.predict(X_train)\n",
    "\n",
    "sse3 = sum([x**2 for x in (Y_test - y_pred3)])\n",
    "print(\"Sse value on test set: \" + str(sse3))\n",
    "\n",
    "ssetrain = sum([x**2 for x in (Y_train - y_predtrain)])\n",
    "print(\"Sse value on train set: \" + str(ssetrain))\n",
    "\n",
    "\n",
    "mse3 = sse3/len(Y_test)\n",
    "print(\"MSE value on test set: \" + str(mse3))\n",
    "\n",
    "msetrain = ssetrain/len(Y_train)\n",
    "print(\"MSE value on train set: \" + str(msetrain))\n",
    "\n",
    "\n",
    "#fvu3 = mse3/np.var(Y_test)\n",
    "#r23 = 1 - fvu3\n",
    "#print(\"R squared value: \" + str(r23))\n",
    "\n"
   ]
  },
  {
   "cell_type": "code",
   "execution_count": 124,
   "metadata": {},
   "outputs": [
    {
     "name": "stdout",
     "output_type": "stream",
     "text": [
      "Loading data\n",
      "done\n",
      "[0 0 0 0 1 0 0 0 1 1 1 1 1 0 0 0 1 1 1 1]\n",
      "50000\n"
     ]
    }
   ],
   "source": [
    "\"\"\"Task 2 - Classification \"\"\"\n",
    "\n",
    "def parseDataFromURL(fname):\n",
    "    for l in urlopen(fname):\n",
    "        yield eval(l)\n",
    "\n",
    "print('Loading data')\n",
    "\n",
    "data = list(parseDataFromURL(\"https://cseweb.ucsd.edu/classes/fa21/cse258-b/data/beer_50000.json\"))\n",
    "\n",
    "print('done')\n",
    "\n",
    "y = [d['review/overall'] >= 4 for d in data]\n",
    "y = np.array(y)*1\n",
    "\n",
    "print(len(y))"
   ]
  },
  {
   "cell_type": "code",
   "execution_count": 133,
   "metadata": {},
   "outputs": [
    {
     "name": "stdout",
     "output_type": "stream",
     "text": [
      "[0 0 0 ... 0 1 0]\n",
      "True positive rate: 0.4224979174104487\n",
      "True negative rate: 0.6408957773980962\n",
      "Balanced error rate: 0.4683031525957275\n"
     ]
    }
   ],
   "source": [
    "from sklearn.linear_model import LogisticRegression\n",
    "\n",
    "def features(obs):\n",
    "    review_len = len(obs['review/text'])\n",
    "    feature = [review_len]\n",
    "    \n",
    "    return feature \n",
    "\n",
    "X = [features(d) for d in data]\n",
    "\n",
    "clf = LogisticRegression(class_weight='balanced').fit(X,y)\n",
    "\n",
    "preds = clf.predict(X)\n",
    "\n",
    "print(preds)\n",
    "\n",
    "TP = sum([(p and l) for (p,l) in zip(preds,y)])\n",
    "FP = sum([(p and not l) for (p,l) in zip(preds,y)])\n",
    "TN = sum([(not p and not l) for (p,l) in zip(preds,y)])\n",
    "FN = sum([(not p and l) for (p,l) in zip(preds,y)])\n",
    "\n",
    "TPR = TP / (TP+FN)\n",
    "TNR = TN / (TN + FP)\n",
    "\n",
    "print(\"True positive rate: \"  + str(TP/(TP+FN)))\n",
    "print(\"True negative rate: \" + str(TN/(TN + FP)))\n",
    "\n",
    "print(\"Balanced error rate: \" + str(1 - .5 * (TPR + TNR)))"
   ]
  },
  {
   "cell_type": "code",
   "execution_count": 143,
   "metadata": {},
   "outputs": [],
   "source": [
    "import matplotlib.pyplot as plt"
   ]
  },
  {
   "cell_type": "code",
   "execution_count": 172,
   "metadata": {},
   "outputs": [
    {
     "data": {
      "image/png": "[encoded data removed]",
      "text/plain": [
       "<Figure size 432x288 with 1 Axes>"
      ]
     },
     "metadata": {
      "needs_background": "light"
     },
     "output_type": "display_data"
    }
   ],
   "source": [
    "probs = clf.predict_proba(X)\n",
    "\n",
    "probY = list(zip([p[1] for p in probs], [p[1] > 0.5 for p in probs] , y))\n",
    "\n",
    "probY.sort(reverse=True)\n",
    "yPR = []\n",
    "axis = []\n",
    "\n",
    "for i in range(1,10000,100):\n",
    "    preds = [x[1] for x in probY[:i]]\n",
    "    labs = [x[2] for x in probY[:i]]\n",
    "    prec = sum(labs) / len(labs)\n",
    "    yPR.append(prec)\n",
    "    axis.append(i)\n",
    "\n",
    "\n",
    "\n",
    "plt.plot(axis,yPR, color='r')\n",
    "plt.xlabel('Budget')\n",
    "plt.ylabel('Precision')\n",
    "plt.plot()\n",
    "plt.title(\"Precision vs Budget\")\n",
    "plt.show()\n"
   ]
  },
  {
   "cell_type": "code",
   "execution_count": 200,
   "metadata": {},
   "outputs": [
    {
     "name": "stdout",
     "output_type": "stream",
     "text": [
      "(0.8053703769809528, True, 1)\n",
      "(0.19462962301904718, True, 1, 0.8053703769809528)\n",
      "Precision with budget = 1: 1\n",
      "[1, 1, 1, 1, 1, 1, 1, 1]\n",
      "Precision with budget = 10: 0.8\n",
      "Precision with budget = 10000: 0.6208\n"
     ]
    },
    {
     "data": {
      "image/png": "[encoded data removed]",
      "text/plain": [
       "<Figure size 432x288 with 1 Axes>"
      ]
     },
     "metadata": {
      "needs_background": "light"
     },
     "output_type": "display_data"
    }
   ],
   "source": [
    "\"\"\"k = 1\"\"\"\n",
    "probY.sort(reverse=True)\n",
    "print(probY[0])\n",
    "\n",
    "def confidence(numb):\n",
    "    \"\"\"Find confidence levels of prediction from logistic regression\n",
    "    Numbers close to zero have high confidence of correct classification \n",
    "    Numbers close to .5 have low confidence \n",
    "    \"\"\"\n",
    "    if numb > .5:\n",
    "        return 1 - numb\n",
    "\n",
    "    else:\n",
    "        return numb\n",
    "\n",
    "    \n",
    "#add confidence to tuples\n",
    "probz = list(zip([p[1] for p in probs], [p[1] > 0.5 for p in probs] , y, [confidence(p[1]) for p in probs]))\n",
    "probyy = list(zip([confidence(p[1]) for p in probs], [p[1] > 0.5 for p in probs] , y, [p[1] for p in probs]))\n",
    "probyy.sort(reverse=False)\n",
    "\n",
    "\"\"\"Precision values for budget levels of 1, 10, 10000\"\"\"\n",
    "\n",
    "print(probyy[0])\n",
    "print(\"Precision with budget = 1: 1\")\n",
    "\n",
    "\n",
    "\n",
    "lb = [x[2] for x in probyy[0:10]]\n",
    "pd = [x[1] for x in probyy[0:10]]\n",
    "pd = np.array(pd) * 1\n",
    "correct = []\n",
    "\n",
    "for i in range(len(lb)):\n",
    "    if pd[i] == lb[i]:\n",
    "        correct.append(1)\n",
    "    \n",
    "print(correct)\n",
    "\n",
    "\n",
    "precision = sum(correct) / len(lb)\n",
    "print(\"Precision with budget = 10: \" + str(precision))\n",
    "\n",
    "lb10000 = [x[2] for x in probyy[0:10000]]\n",
    "pd10000 = [x[1] for x in probyy[0:10000]]\n",
    "pd10000 = np.array(pd10000) * 1\n",
    "\n",
    "correct2 = []\n",
    "\n",
    "for i in range(len(lb10000)):\n",
    "    if pd10000[i] == lb10000[i]:\n",
    "        correct2.append(1)\n",
    "\n",
    "precision10000 = sum(correct2) / len(lb10000)\n",
    "print(\"Precision with budget = 10000: \" + str(precision10000))\n",
    "\n",
    "xaxis = [1,10,10000]\n",
    "yaxis = [1, .8, precision10000]\n",
    "\n",
    "plt.plot(xaxis,yaxis, color='b')\n",
    "plt.xlabel('Budget')\n",
    "plt.ylabel('Precision')\n",
    "plt.plot()\n",
    "plt.title(\"Precision vs Budget\")\n",
    "plt.show()\n",
    "\n",
    "        "
   ]
  }
 ],
 "metadata": {
  "kernelspec": {
   "display_name": "Python 3",
   "language": "python",
   "name": "python3"
  },
  "language_info": {
   "codemirror_mode": {
    "name": "ipython",
    "version": 3
   },
   "file_extension": ".py",
   "mimetype": "text/x-python",
   "name": "python",
   "nbconvert_exporter": "python",
   "pygments_lexer": "ipython3",
   "version": "3.7.3"
  }
 },
 "nbformat": 4,
 "nbformat_minor": 2
}
