{
 "cells": [
  {
   "cell_type": "code",
   "execution_count": 1,
   "metadata": {},
   "outputs": [
    {
     "data": {
      "text/plain": [
       "'\\n### Rating baseline: compute averages for each user, or return the global average if we\\'ve never seen the user before\\n\\nallRatings = []\\nuserRatings = defaultdict(list)\\n\\nfor user,recipe,d in readCSV(\"C:/Users/brand/Desktop/trainInteractions.csv.gz\"):\\n  r = int(d[\\'rating\\'])\\n  allRatings.append(r)\\n  userRatings[user].append(r)\\n\\nglobalAverage = sum(allRatings) / len(allRatings)\\nuserAverage = {}\\nfor u in userRatings:\\n  userAverage[u] = sum(userRatings[u]) / len(userRatings[u])\\n\\npredictions = open(\"C:/Users/brand/Desktop/predictions_Rated.txt\", \\'w\\')\\nfor l in open(\"C:/Users/brand/Desktop/stub_Rated.txt\"):\\n  if l.startswith(\"user_id\"):\\n    #header\\n    predictions.write(l)\\n    continue\\n  u,i = l.strip().split(\\'-\\')\\n  if u in userAverage:\\n    predictions.write(u + \\'-\\' + i + \\',\\' + str(userAverage[u]) + \\'\\n\\')\\n  else:\\n    predictions.write(u + \\'-\\' + i + \\',\\' + str(globalAverage) + \\'\\n\\')\\n\\npredictions.close()\\n\\n### Would-cook baseline: just rank which recipes are popular and which are not, and return \\'1\\' if a recipe is among the top-ranked\\n\\nrecipeCount = defaultdict(int)\\ntotalCooked = 0\\n\\nfor user,recipe,_ in readCSV(\"C:/Users/brand/Desktop/trainInteractions.csv.gz\"):\\n  recipeCount[recipe] += 1\\n  totalCooked += 1\\n\\nmostPopular = [(recipeCount[x], x) for x in recipeCount]\\nmostPopular.sort()\\nmostPopular.reverse()\\n\\nreturn1 = set()\\ncount = 0\\nfor ic, i in mostPopular:\\n  count += ic\\n  return1.add(i)\\n  if count > totalCooked/2: break\\n\\npredictions = open(\"C:/Users/brand/Desktop/predictions_Made.txt\", \\'w\\')\\nfor l in open(\"C:/Users/brand/Desktop/stub_Made.txt\"):\\n  if l.startswith(\"user_id\"):\\n    #header\\n    predictions.write(l)\\n    continue\\n  u,i = l.strip().split(\\'-\\')\\n  if i in return1:\\n    predictions.write(u + \\'-\\' + i + \",1\\n\")\\n  else:\\n    predictions.write(u + \\'-\\' + i + \",0\\n\")\\n\\npredictions.close()\\n\\n### Cook-time prediction baseline: Regress based on the length of the instructions\\n\\nX = []\\ny = []\\n\\nfor d in readGz(\"C:/Users/brand/Desktop/trainRecipes.json.gz\"):\\n    X.append([1,len(d[\\'steps\\'])])\\n    y.append(d[\\'minutes\\'])\\n\\nmod = linear_model.LinearRegression()\\nmod.fit(X, y)\\n\\npredictions = open(\"C:/Users/brand/Desktop/predictions_Minutes.txt\", \\'w\\')\\npredictions.write(\"recipe_id,prediction\\n\")\\nfor d in readGz(\"C:/Users/brand/Desktop/testRecipes.json.gz\"):\\n  x = [1,len(d[\\'steps\\'])]\\n  pred = mod.predict([x])[0]\\n  predictions.write(d[\\'recipe_id\\'] + \\',\\' + str(pred) + \\'\\n\\')\\n\\npredictions.close()\\n'"
      ]
     },
     "execution_count": 1,
     "metadata": {},
     "output_type": "execute_result"
    }
   ],
   "source": [
    "import gzip\n",
    "from collections import defaultdict\n",
    "from sklearn import linear_model\n",
    "import csv\n",
    "\n",
    "def readGz(path):\n",
    "    for l in gzip.open(path, 'rt',encoding='utf8'):\n",
    "        yield eval(l)\n",
    "\n",
    "def readCSV(path):\n",
    "    f = gzip.open(path, 'rt')\n",
    "    c = csv.reader(f)\n",
    "    header = next(c)\n",
    "    for l in c:\n",
    "        d = dict(zip(header,l))\n",
    "        yield d['user_id'],d['recipe_id'],d\n",
    "'''\n",
    "### Rating baseline: compute averages for each user, or return the global average if we've never seen the user before\n",
    "\n",
    "allRatings = []\n",
    "userRatings = defaultdict(list)\n",
    "\n",
    "for user,recipe,d in readCSV(\"C:/Users/brand/Desktop/trainInteractions.csv.gz\"):\n",
    "  r = int(d['rating'])\n",
    "  allRatings.append(r)\n",
    "  userRatings[user].append(r)\n",
    "\n",
    "globalAverage = sum(allRatings) / len(allRatings)\n",
    "userAverage = {}\n",
    "for u in userRatings:\n",
    "  userAverage[u] = sum(userRatings[u]) / len(userRatings[u])\n",
    "\n",
    "predictions = open(\"C:/Users/brand/Desktop/predictions_Rated.txt\", 'w')\n",
    "for l in open(\"C:/Users/brand/Desktop/stub_Rated.txt\"):\n",
    "  if l.startswith(\"user_id\"):\n",
    "    #header\n",
    "    predictions.write(l)\n",
    "    continue\n",
    "  u,i = l.strip().split('-')\n",
    "  if u in userAverage:\n",
    "    predictions.write(u + '-' + i + ',' + str(userAverage[u]) + '\\n')\n",
    "  else:\n",
    "    predictions.write(u + '-' + i + ',' + str(globalAverage) + '\\n')\n",
    "\n",
    "predictions.close()\n",
    "\n",
    "### Would-cook baseline: just rank which recipes are popular and which are not, and return '1' if a recipe is among the top-ranked\n",
    "\n",
    "recipeCount = defaultdict(int)\n",
    "totalCooked = 0\n",
    "\n",
    "for user,recipe,_ in readCSV(\"C:/Users/brand/Desktop/trainInteractions.csv.gz\"):\n",
    "  recipeCount[recipe] += 1\n",
    "  totalCooked += 1\n",
    "\n",
    "mostPopular = [(recipeCount[x], x) for x in recipeCount]\n",
    "mostPopular.sort()\n",
    "mostPopular.reverse()\n",
    "\n",
    "return1 = set()\n",
    "count = 0\n",
    "for ic, i in mostPopular:\n",
    "  count += ic\n",
    "  return1.add(i)\n",
    "  if count > totalCooked/2: break\n",
    "\n",
    "predictions = open(\"C:/Users/brand/Desktop/predictions_Made.txt\", 'w')\n",
    "for l in open(\"C:/Users/brand/Desktop/stub_Made.txt\"):\n",
    "  if l.startswith(\"user_id\"):\n",
    "    #header\n",
    "    predictions.write(l)\n",
    "    continue\n",
    "  u,i = l.strip().split('-')\n",
    "  if i in return1:\n",
    "    predictions.write(u + '-' + i + \",1\\n\")\n",
    "  else:\n",
    "    predictions.write(u + '-' + i + \",0\\n\")\n",
    "\n",
    "predictions.close()\n",
    "\n",
    "### Cook-time prediction baseline: Regress based on the length of the instructions\n",
    "\n",
    "X = []\n",
    "y = []\n",
    "\n",
    "for d in readGz(\"C:/Users/brand/Desktop/trainRecipes.json.gz\"):\n",
    "    X.append([1,len(d['steps'])])\n",
    "    y.append(d['minutes'])\n",
    "\n",
    "mod = linear_model.LinearRegression()\n",
    "mod.fit(X, y)\n",
    "\n",
    "predictions = open(\"C:/Users/brand/Desktop/predictions_Minutes.txt\", 'w')\n",
    "predictions.write(\"recipe_id,prediction\\n\")\n",
    "for d in readGz(\"C:/Users/brand/Desktop/testRecipes.json.gz\"):\n",
    "  x = [1,len(d['steps'])]\n",
    "  pred = mod.predict([x])[0]\n",
    "  predictions.write(d['recipe_id'] + ',' + str(pred) + '\\n')\n",
    "\n",
    "predictions.close()\n",
    "'''"
   ]
  },
  {
   "cell_type": "code",
   "execution_count": 2,
   "metadata": {},
   "outputs": [],
   "source": [
    "import pandas as pd\n",
    "    \n",
    "def testvalsplit(path):\n",
    "    \n",
    "    f = gzip.open(path, 'rt')\n",
    "    data = pd.read_csv(f,dtype=str)    \n",
    "    train = data[0:400000]\n",
    "    val = data[400000:]\n",
    "    vv = data[400000:]\n",
    "    \n",
    "    return data,train,val,vv\n",
    "\n",
    "\n",
    "d,t,v,vv = testvalsplit(\"C:/Users/brand/Desktop/trainInteractions.csv.gz\")\n",
    "\n",
    "\n",
    "    \n",
    "\n"
   ]
  },
  {
   "cell_type": "code",
   "execution_count": 3,
   "metadata": {},
   "outputs": [
    {
     "name": "stderr",
     "output_type": "stream",
     "text": [
      "C:\\Users\\brand\\Anaconda3\\lib\\site-packages\\ipykernel_launcher.py:1: SettingWithCopyWarning: \n",
      "A value is trying to be set on a copy of a slice from a DataFrame.\n",
      "Try using .loc[row_indexer,col_indexer] = value instead\n",
      "\n",
      "See the caveats in the documentation: http://pandas.pydata.org/pandas-docs/stable/indexing.html#indexing-view-versus-copy\n",
      "  \"\"\"Entry point for launching an IPython kernel.\n"
     ]
    },
    {
     "name": "stdout",
     "output_type": "stream",
     "text": [
      "user_id        90764166\n",
      "recipe_id      01768679\n",
      "date         2011-09-10\n",
      "rating                5\n",
      "cooked                1\n",
      "Name: 400000, dtype: object\n"
     ]
    }
   ],
   "source": [
    "v['cooked'] = 1\n",
    "print(v.iloc[0,:])\n",
    "\n",
    "\n",
    "recipelst = []\n",
    "recipePerUser = defaultdict(set)\n",
    "\n",
    "\n",
    "for index,row in d.iterrows():\n",
    "    use = row['user_id']\n",
    "    rec = row['recipe_id']\n",
    "    recipelst.append(rec)\n",
    "    recipePerUser[use].add(rec)\n",
    "    \n",
    "recipelst = set(recipelst)\n",
    "recipelst = list(recipelst)\n",
    "\n",
    "\n",
    "\n",
    "        \n"
   ]
  },
  {
   "cell_type": "code",
   "execution_count": 4,
   "metadata": {},
   "outputs": [],
   "source": [
    "import numpy as np\n",
    "import random\n",
    "\n",
    "recipeset = set(recipelst)\n",
    "\n",
    "\n",
    "lst = []\n",
    "\n",
    "\n",
    "for index, row in v.iterrows():\n",
    "    use = row['user_id']\n",
    "    rec = row['recipe_id']\n",
    "    date = row['date']\n",
    "    rat = 0\n",
    "    '''professor said we could choose from all recipes for implementation time sake'''\n",
    "    indx = np.random.randint(0,len(recipelst))\n",
    "    new_recipe = recipelst[indx]\n",
    "    lst.append([use,new_recipe,date,rat,0])\n",
    "    \n",
    "    \n",
    "\n",
    "\n",
    "  \n",
    "\n",
    "\n",
    "\n",
    "    \n",
    "    "
   ]
  },
  {
   "cell_type": "code",
   "execution_count": 5,
   "metadata": {},
   "outputs": [
    {
     "name": "stdout",
     "output_type": "stream",
     "text": [
      "100000\n",
      "         user_id recipe_id        date  rating  cooked\n",
      "500000  90764166  54995358  2011-09-10       0       0\n",
      "500001  68112239  11793985  2007-03-30       0       0\n",
      "500002  32173358  97803071  2009-01-16       0       0\n",
      "500003  30893740  47314485  2010-06-12       0       0\n",
      "500004  69780905  80017849  2004-02-10       0       0\n",
      "200000\n",
      "         user_id recipe_id        date rating  cooked\n",
      "599995  49948579  05705579  2008-08-23      0       0\n",
      "599996  37419956  24880046  2006-07-03      0       0\n",
      "599997  35102479  55355975  2012-03-27      0       0\n",
      "599998  53665875  28866920  2008-12-13      0       0\n",
      "599999  49434402  77531801  2007-05-08      0       0\n"
     ]
    }
   ],
   "source": [
    "columns = ['user_id','recipe_id','date','rating','cooked']\n",
    "index = np.arange(500000,600000)\n",
    "\n",
    "df = pd.DataFrame(lst,index,columns)\n",
    "print(len(df))\n",
    "print(df.head())\n",
    "\n",
    "val_set = pd.concat([v,df])\n",
    "\n",
    "print(len(val_set))\n",
    "print(val_set.tail())\n"
   ]
  },
  {
   "cell_type": "code",
   "execution_count": 6,
   "metadata": {},
   "outputs": [
    {
     "name": "stdout",
     "output_type": "stream",
     "text": [
      "Validation set accuracy:0.669665\n"
     ]
    }
   ],
   "source": [
    "recipeCount = defaultdict(int)\n",
    "totalCooked = 0\n",
    "\n",
    "for index,row in t.iterrows():\n",
    "    recipeCount[row['recipe_id']] += 1\n",
    "    totalCooked += 1\n",
    "\n",
    "mostPopular = [(recipeCount[x], x) for x in recipeCount]\n",
    "mostPopular.sort()\n",
    "mostPopular.reverse()\n",
    "\n",
    "return1 = set()\n",
    "count = 0\n",
    "for ic, i in mostPopular:\n",
    "    count += ic\n",
    "    return1.add(i)\n",
    "    if count > totalCooked/2: \n",
    "        break\n",
    "\n",
    "correct = 0\n",
    "\n",
    "for index,row in val_set.iterrows():\n",
    "    if row['recipe_id'] in return1:\n",
    "        correct += (row['cooked'] != 0)\n",
    "    \n",
    "    else:\n",
    "        correct += (row['cooked'] == 0)\n",
    "\n",
    "print('Validation set accuracy:' + str(correct/len(val_set)))\n"
   ]
  },
  {
   "cell_type": "code",
   "execution_count": 9,
   "metadata": {},
   "outputs": [
    {
     "name": "stdout",
     "output_type": "stream",
     "text": [
      "[0.67618, 0.67619, 0.676205, 0.67624, 0.676255, 0.67632, 0.676335, 0.67635, 0.67635, 0.676335, 0.67638, 0.676385, 0.67629]\n"
     ]
    }
   ],
   "source": [
    "def threshold_mining(thresh):\n",
    "    yax = []\n",
    "    \n",
    "        \n",
    "    recipeCount = defaultdict(int)\n",
    "    totalCooked = 0\n",
    "\n",
    "    for index,row in t.iterrows():\n",
    "        recipeCount[row['recipe_id']] += 1\n",
    "        totalCooked += 1\n",
    "\n",
    "    mostPopular = [(recipeCount[x], x) for x in recipeCount]\n",
    "    mostPopular.sort()\n",
    "    mostPopular.reverse()\n",
    "    \n",
    "    for k in thresh:\n",
    "        return1 = set()\n",
    "        count = 0\n",
    "        for ic, i in mostPopular:\n",
    "            count += ic\n",
    "            return1.add(i)\n",
    "            if count > totalCooked/k: \n",
    "                break\n",
    "\n",
    "        correct = 0\n",
    "\n",
    "        for index,row in val_set.iterrows():\n",
    "            if row['recipe_id'] in return1:\n",
    "                correct += (row['cooked'] != 0)\n",
    "    \n",
    "            else:\n",
    "                correct += (row['cooked'] == 0)\n",
    "        \n",
    "        yax.append(correct/len(val_set))\n",
    "        \n",
    "    return thresh,yax\n",
    "\n",
    "\n",
    "l = [1.675 + 0.001*i for i in range(13)]\n",
    "x,y = threshold_mining(l)\n",
    "print(y)"
   ]
  },
  {
   "cell_type": "code",
   "execution_count": 11,
   "metadata": {},
   "outputs": [
    {
     "data": {
      "image/png": "[encoded data removed]",
      "text/plain": [
       "<Figure size 432x288 with 1 Axes>"
      ]
     },
     "metadata": {
      "needs_background": "light"
     },
     "output_type": "display_data"
    },
    {
     "name": "stdout",
     "output_type": "stream",
     "text": [
      "\n"
     ]
    }
   ],
   "source": [
    "import matplotlib.pyplot as plt\n",
    "plt.plot(x,y,'r')\n",
    "plt.xlabel('Threshold')\n",
    "plt.ylabel('Accuracy on validation set by threshold')\n",
    "plt.show()\n",
    "\n",
    "print()\n",
    "\"\"\"1.686\"\"\""
   ]
  },
  {
   "cell_type": "code",
   "execution_count": 18,
   "metadata": {},
   "outputs": [],
   "source": [
    "usersPerRecipe = defaultdict(set)\n",
    "recipesPerUser = defaultdict(set)\n",
    "\n",
    "for index, row in t.iterrows():\n",
    "    user,recipe = row['user_id'],row['recipe_id']\n",
    "    usersPerRecipe[recipe].add(user)\n",
    "    recipesPerUser[user].add(recipe)\n",
    "\n",
    "def Jaccard(s1,s2):\n",
    "    numer = len(s1.intersection(s2))\n",
    "    denom = len(s1.union(s2))\n",
    "    if denom == 0:\n",
    "        return 0\n",
    "    \n",
    "    return numer/denom\n",
    "\n",
    "\n",
    "\n",
    "def thresh_jacc(thresh):\n",
    "    yax = []\n",
    "\n",
    "    for j in thresh:\n",
    "        correct = 0\n",
    "        \n",
    "        for index, row in val_set.iterrows():\n",
    "            pred = 0\n",
    "            user,recipe = row['user_id'],row['recipe_id']\n",
    "    \n",
    "            recipeset = list(recipesPerUser[user])\n",
    "            \n",
    "    \n",
    "            for i in recipeset:\n",
    "                if i == recipe:\n",
    "                    continue\n",
    "                sim = Jaccard(usersPerRecipe[i],usersPerRecipe[recipe])\n",
    "                \n",
    "                    \n",
    "                if sim > j:\n",
    "                    pred = 1\n",
    "                    break\n",
    "                \n",
    "            if row['cooked'] == pred:\n",
    "                correct += 1\n",
    "        \n",
    "        yax.append(correct/len(v))\n",
    "    \n",
    "    return thresh,yax\n",
    "\n",
    "ts = [0.0079 + 0.0001*i for i in range(10)]\n",
    "xx,yy = thresh_jacc(ts)\n",
    "        \n"
   ]
  },
  {
   "cell_type": "code",
   "execution_count": 19,
   "metadata": {},
   "outputs": [
    {
     "name": "stdout",
     "output_type": "stream",
     "text": [
      "[0.59321  0.59322  0.593345 0.593185 0.593205 0.593255 0.59323  0.593235\n",
      " 0.5932   0.593135]\n",
      "[0.0079, 0.008, 0.008100000000000001, 0.0082, 0.0083, 0.008400000000000001, 0.0085, 0.0086, 0.008700000000000001, 0.0088]\n"
     ]
    },
    {
     "data": {
      "text/plain": [
       "'best: 0.008'"
      ]
     },
     "execution_count": 19,
     "metadata": {},
     "output_type": "execute_result"
    }
   ],
   "source": [
    "print(np.array(yy)*.5)\n",
    "print(ts)\n",
    "\"\"\"best: 0.008\"\"\""
   ]
  },
  {
   "cell_type": "code",
   "execution_count": 26,
   "metadata": {},
   "outputs": [
    {
     "name": "stdout",
     "output_type": "stream",
     "text": [
      "0.65794\n"
     ]
    }
   ],
   "source": [
    "def dynamicduo(pop, jac):\n",
    "    \n",
    "    \n",
    "    return1 = set()\n",
    "    count = 0\n",
    "    for ic, i in mostPopular:\n",
    "        count += ic\n",
    "        return1.add(i)\n",
    "        if count > totalCooked / pop :\n",
    "            break\n",
    "\n",
    "    correct = 0\n",
    "    \n",
    "    for index,row in val_set.iterrows():\n",
    "        \n",
    "        pred = 0\n",
    "        user,recipe = row['user_id'],row['recipe_id']\n",
    "    \n",
    "        recipeset = list(recipesPerUser[user])\n",
    "            \n",
    "    \n",
    "        for i in recipeset:\n",
    "            if i == recipe:\n",
    "                continue\n",
    "            sim = Jaccard(usersPerRecipe[i],usersPerRecipe[recipe])\n",
    "            \n",
    "                    \n",
    "            if sim > jac:\n",
    "                pred = 1\n",
    "                break\n",
    "                \n",
    "        if pred == 1 and recipe in return1:\n",
    "            correct += (row['cooked'] != 0)\n",
    "        \n",
    "        else:\n",
    "            correct += (row['cooked'] == 0)\n",
    "                \n",
    "    return correct/len(val_set)\n",
    "\n",
    "print(dynamicduo(1.686,0.0086))"
   ]
  },
  {
   "cell_type": "code",
   "execution_count": 27,
   "metadata": {},
   "outputs": [
    {
     "data": {
      "text/plain": [
       "'kaggle username: gringobanditoo'"
      ]
     },
     "execution_count": 27,
     "metadata": {},
     "output_type": "execute_result"
    }
   ],
   "source": [
    "thresh_pop = 1.686\n",
    "thresh_jac = 0.0086\n",
    "\n",
    "return1 = set()\n",
    "count = 0\n",
    "for ic, i in mostPopular:\n",
    "    count += ic\n",
    "    return1.add(i)\n",
    "    if count > totalCooked/thresh_pop  :\n",
    "        break\n",
    "        \n",
    "predictions = open(\"C:/Users/brand/Desktop/predictions_Made.txt\", 'w')\n",
    "for l in open(\"C:/Users/brand/Desktop/stub_Made.txt\"):\n",
    "    if l.startswith(\"user_id\"):\n",
    "    #header\n",
    "        predictions.write(l)\n",
    "        continue\n",
    "    \n",
    "    u, i = l.strip().split('-')\n",
    "    pred = 0\n",
    "    user_recipes = list(recipesPerUser[u])\n",
    "    \n",
    "    \n",
    "    for j in user_recipes:\n",
    "        if j == i:\n",
    "            continue\n",
    "            \n",
    "        sim = Jaccard(usersPerRecipe[j],usersPerRecipe[i])\n",
    "            \n",
    "                    \n",
    "        if sim > thresh_jac:\n",
    "            pred = 1\n",
    "    \n",
    "    \n",
    "    if i in return1 and pred == 1:\n",
    "        \n",
    "        predictions.write(u + '-' + i + \",1\\n\")\n",
    "    else:\n",
    "        predictions.write(u + '-' + i + \",0\\n\")\n",
    "\n",
    "predictions.close()\n",
    "\"\"\"kaggle username: gringobanditoo\"\"\""
   ]
  },
  {
   "cell_type": "code",
   "execution_count": 40,
   "metadata": {},
   "outputs": [],
   "source": [
    "\n",
    "userIDs = {}\n",
    "recipeIDs = {}\n",
    "interactions = []\n",
    "\n",
    "for user,recipe,d in readCSV(\"C:/Users/brand/Desktop/trainInteractions.csv.gz\"):\n",
    "    u = user\n",
    "    i = recipe\n",
    "    r = int(d['rating'])\n",
    "    if not u in userIDs: userIDs[u] = len(userIDs)\n",
    "    if not i in recipeIDs: recipeIDs[i] = len(recipeIDs)\n",
    "    interactions.append((u,i,r))\n",
    "\n"
   ]
  },
  {
   "cell_type": "code",
   "execution_count": 41,
   "metadata": {},
   "outputs": [],
   "source": [
    "import pandas as pd \n",
    "\n",
    "\n",
    "\n",
    "\n"
   ]
  },
  {
   "cell_type": "code",
   "execution_count": 42,
   "metadata": {},
   "outputs": [],
   "source": [
    "interTrain = interactions[0:400000]\n",
    "interVal = interactions[400000:]"
   ]
  },
  {
   "cell_type": "code",
   "execution_count": 16,
   "metadata": {},
   "outputs": [
    {
     "data": {
      "text/plain": [
       "'lamb = 1'"
      ]
     },
     "execution_count": 16,
     "metadata": {},
     "output_type": "execute_result"
    }
   ],
   "source": [
    "\"\"\"lamb = 1\"\"\""
   ]
  },
  {
   "cell_type": "code",
   "execution_count": 37,
   "metadata": {},
   "outputs": [],
   "source": [
    "import gzip\n",
    "import random\n",
    "import scipy\n",
    "import tensorflow as tf\n",
    "from collections import defaultdict\n"
   ]
  },
  {
   "cell_type": "code",
   "execution_count": 62,
   "metadata": {},
   "outputs": [],
   "source": [
    "class LatentFactorModelBiasOnly(tf.keras.Model):\n",
    "    def __init__(self, mu, lamb):\n",
    "        super(LatentFactorModelBiasOnly, self).__init__()\n",
    "        # Initialize to average\n",
    "        self.alpha = tf.Variable(mu)\n",
    "        # Initialize to small random values\n",
    "        self.betaU = tf.Variable(tf.random.normal([len(userIDs)],stddev=0.001))\n",
    "        self.betaI = tf.Variable(tf.random.normal([len(recipeIDs)],stddev=0.001))\n",
    "        self.lamb = lamb\n",
    "\n",
    "    # Prediction for a single instance (useful for evaluation)\n",
    "    def predict(self, u, i):\n",
    "        p = self.alpha + self.betaU[u] + self.betaI[i]\n",
    "        return p\n",
    "\n",
    "    # Regularizer\n",
    "    def reg(self):\n",
    "        return self.lamb * (tf.reduce_sum(self.betaU**2) +\\\n",
    "                            tf.reduce_sum(self.betaI**2))\n",
    "    \n",
    "    # Prediction for a sample of instances\n",
    "    def predictSample(self, sampleU, sampleI):\n",
    "        u = tf.convert_to_tensor(sampleU, dtype=tf.int32)\n",
    "        i = tf.convert_to_tensor(sampleI, dtype=tf.int32)\n",
    "        beta_u = tf.nn.embedding_lookup(self.betaU, u)\n",
    "        beta_i = tf.nn.embedding_lookup(self.betaI, i)\n",
    "        pred = self.alpha + beta_u + beta_i\n",
    "        return pred\n",
    "    \n",
    "    # Loss\n",
    "    def call(self, sampleU, sampleI, sampleR):\n",
    "        pred = self.predictSample(sampleU, sampleI)\n",
    "        r = tf.convert_to_tensor(sampleR, dtype=tf.float32)\n",
    "        return tf.nn.l2_loss(pred - r) / len(sampleR)"
   ]
  },
  {
   "cell_type": "code",
   "execution_count": 48,
   "metadata": {},
   "outputs": [],
   "source": [
    "modelBiasOnly = LatentFactorModelBiasOnly(mu, 1)"
   ]
  },
  {
   "cell_type": "code",
   "execution_count": 55,
   "metadata": {},
   "outputs": [],
   "source": [
    "def trainingStepBiasOnly(model, interactions):\n",
    "    Nsamples = 50000\n",
    "    with tf.GradientTape() as tape:\n",
    "        sampleU, sampleI, sampleR = [], [], []\n",
    "        for _ in range(Nsamples):\n",
    "            u,i,r = random.choice(interactions)\n",
    "            sampleU.append(userIDs[u])\n",
    "            sampleI.append(recipeIDs[i])\n",
    "            sampleR.append(r)\n",
    "\n",
    "        loss = model(sampleU,sampleI,sampleR)\n",
    "        loss += model.reg()\n",
    "    gradients = tape.gradient(loss, model.trainable_variables)\n",
    "    optimizer.apply_gradients((grad, var) for\n",
    "        (grad, var) in zip(gradients, model.trainable_variables)\n",
    "        if grad is not None)\n",
    "    return loss.numpy()"
   ]
  },
  {
   "cell_type": "code",
   "execution_count": 57,
   "metadata": {},
   "outputs": [
    {
     "name": "stdout",
     "output_type": "stream",
     "text": [
      "iteration 10, objective = 440.42233\n",
      "iteration 20, objective = 19.52802\n",
      "iteration 30, objective = 16.012182\n",
      "iteration 40, objective = 18.586277\n",
      "iteration 50, objective = 8.482898\n"
     ]
    }
   ],
   "source": [
    "optimizer = tf.keras.optimizers.Adam(0.1)\n",
    "for i in range(50):\n",
    "    obj = trainingStepBiasOnly(modelBiasOnly, interTrain)\n",
    "    if (i % 10 == 9): print(\"iteration \" + str(i+1) + \", objective = \" + str(obj))"
   ]
  },
  {
   "cell_type": "code",
   "execution_count": 58,
   "metadata": {},
   "outputs": [],
   "source": [
    "def MSE(predictions, labels):\n",
    "    differences = [(x-y)**2 for x,y in zip(predictions,labels)]\n",
    "    return sum(differences) / len(differences)"
   ]
  },
  {
   "cell_type": "code",
   "execution_count": 65,
   "metadata": {},
   "outputs": [],
   "source": [
    "labels = [r for _,_,r in interVal]\n",
    "\n",
    "biasonlypreds = [modelBiasOnly.predict(userIDs[u],recipeIDs[i]).numpy() for u,i,_ in interVal]"
   ]
  },
  {
   "cell_type": "code",
   "execution_count": 67,
   "metadata": {},
   "outputs": [
    {
     "name": "stdout",
     "output_type": "stream",
     "text": [
      "MSE with bias values and lambda = 1\n",
      "0.909693923559389\n"
     ]
    }
   ],
   "source": [
    "print(\"MSE with bias values and lambda = 1\")\n",
    "print(MSE(biasonlypreds,labels))"
   ]
  },
  {
   "cell_type": "code",
   "execution_count": 82,
   "metadata": {},
   "outputs": [],
   "source": [
    "userbiases = [(modelBiasOnly.predict(userIDs[u],recipeIDs['00000194']).numpy(),u) for u in userIDs]\n",
    "itembiases = [(modelBiasOnly.predict(userIDs['88348277'],recipeIDs[i]).numpy(),i) for i in recipeIDs]"
   ]
  },
  {
   "cell_type": "code",
   "execution_count": 88,
   "metadata": {},
   "outputs": [
    {
     "name": "stdout",
     "output_type": "stream",
     "text": [
      "User with highest bias value:\n",
      "81098664\n",
      "-------------\n",
      "Item with the highest bias value\n",
      "67154017\n",
      "--------------\n"
     ]
    }
   ],
   "source": [
    "sorted_userbiases = sorted(userbiases, reverse=True)\n",
    "sorted_itembiases = sorted(itembiases,reverse=True)\n",
    "\n",
    "\n",
    "print(\"User with highest bias value:\")\n",
    "print(sorted_userbiases[0][1])\n",
    "print(\"-------------\")\n",
    "print('Item with the highest bias value')\n",
    "print(sorted_itembiases[0][1])\n",
    "print(\"--------------\")"
   ]
  },
  {
   "cell_type": "code",
   "execution_count": 92,
   "metadata": {},
   "outputs": [
    {
     "name": "stdout",
     "output_type": "stream",
     "text": [
      "iteration 10, objective = 81.24154\n",
      "iteration 20, objective = 372.08313\n",
      "iteration 30, objective = 227.83838\n",
      "iteration 40, objective = 43.063667\n",
      "iteration 50, objective = 1.0869454\n",
      "iteration 10, objective = 45.184555\n",
      "iteration 20, objective = 212.98088\n",
      "iteration 30, objective = 127.1695\n",
      "iteration 40, objective = 25.090967\n",
      "iteration 50, objective = 1.1056631\n",
      "iteration 10, objective = 9.725786\n",
      "iteration 20, objective = 53.550587\n",
      "iteration 30, objective = 24.722193\n",
      "iteration 40, objective = 4.141632\n",
      "iteration 50, objective = 0.847288\n",
      "iteration 10, objective = 4.933228\n",
      "iteration 20, objective = 5.042597\n",
      "iteration 30, objective = 1.2948261\n",
      "iteration 40, objective = 0.76684767\n",
      "iteration 50, objective = 0.61381996\n",
      "iteration 10, objective = 0.78278816\n",
      "iteration 20, objective = 0.7259859\n",
      "iteration 30, objective = 0.53258896\n",
      "iteration 40, objective = 0.49350247\n",
      "iteration 50, objective = 0.4734055\n"
     ]
    }
   ],
   "source": [
    "def lambfinder(lambs):\n",
    "    mse_best = 10000000\n",
    "    lamb_best = 0\n",
    "    for j in lambs:\n",
    "        \n",
    "        modelBiasOnly = LatentFactorModelBiasOnly(mu, j)\n",
    "        optimizer = tf.keras.optimizers.Adam(0.1)\n",
    "        for i in range(50):\n",
    "            obj = trainingStepBiasOnly(modelBiasOnly, interTrain)\n",
    "            if (i % 10 == 9):\n",
    "                print(\"iteration \" + str(i+1) + \", objective = \" + str(obj))\n",
    "                    \n",
    "        biasonlypreds = [modelBiasOnly.predict(userIDs[u],recipeIDs[i]).numpy() for u,i,_ in interVal]\n",
    "        mse = MSE(biasonlypreds,labels)\n",
    "        \n",
    "        if mse < mse_best:\n",
    "            mse_best = mse\n",
    "            lamb_best = j\n",
    "        \n",
    "    return mse_best, lamb_best\n",
    "\n",
    "m,l = lambfinder([1,0.5,0.1,0.01,0.001])"
   ]
  },
  {
   "cell_type": "code",
   "execution_count": 93,
   "metadata": {},
   "outputs": [
    {
     "name": "stdout",
     "output_type": "stream",
     "text": [
      "Best MSE value: 0.8862604154275667\n",
      "Best lambda value: 0.001\n"
     ]
    }
   ],
   "source": [
    "\n",
    "print('Best MSE value: ' + str(m))\n",
    "print('Best lambda value: ' + str(l))\n"
   ]
  },
  {
   "cell_type": "code",
   "execution_count": 97,
   "metadata": {},
   "outputs": [
    {
     "name": "stdout",
     "output_type": "stream",
     "text": [
      "iteration 10, objective = 0.57136047\n",
      "iteration 20, objective = 0.47976786\n",
      "iteration 30, objective = 0.4702464\n",
      "iteration 40, objective = 0.45716617\n",
      "iteration 50, objective = 0.44549966\n"
     ]
    }
   ],
   "source": [
    "modelBiasOnly2 = LatentFactorModelBiasOnly(mu, 0.001)\n",
    "\n",
    "optimizer = tf.keras.optimizers.Adam(0.1)\n",
    "for i in range(50):\n",
    "    obj = trainingStepBiasOnly(modelBiasOnly2, interTrain)\n",
    "    if (i % 10 == 9): \n",
    "        print(\"iteration \" + str(i+1) + \", objective = \" + str(obj))\n",
    "\n"
   ]
  },
  {
   "cell_type": "code",
   "execution_count": 107,
   "metadata": {},
   "outputs": [],
   "source": [
    "predictions = open(\"C:/Users/brand/Desktop/predictions_Rated.txt\", 'w')\n",
    "for l in open(\"C:/Users/brand/Desktop/stub_Rated.txt\"):\n",
    "    if l.startswith(\"user_id\"):\n",
    "    #header\n",
    "        predictions.write(l)\n",
    "        continue\n",
    "    u,i = l.strip().split('-')\n",
    "    \n",
    "    if u not in userIDs or i not in recipeIDs:\n",
    "        predictions.write(u + '-' + i + \",\" + str(mu) + \"\\n\")\n",
    "    else:\n",
    "        predictions.write(u + '-' + i + \",\" + str(modelBiasOnly2.predict(userIDs[u],recipeIDs[i]).numpy()) + \"\\n\")\n",
    "\n",
    "predictions.close()\n"
   ]
  },
  {
   "cell_type": "code",
   "execution_count": 108,
   "metadata": {},
   "outputs": [
    {
     "data": {
      "text/plain": [
       "'username: gringobanditoo'"
      ]
     },
     "execution_count": 108,
     "metadata": {},
     "output_type": "execute_result"
    }
   ],
   "source": [
    "\"\"\"username: gringobanditoo\"\"\""
   ]
  }
 ],
 "metadata": {
  "kernelspec": {
   "display_name": "Python 3",
   "language": "python",
   "name": "python3"
  },
  "language_info": {
   "codemirror_mode": {
    "name": "ipython",
    "version": 3
   },
   "file_extension": ".py",
   "mimetype": "text/x-python",
   "name": "python",
   "nbconvert_exporter": "python",
   "pygments_lexer": "ipython3",
   "version": "3.7.3"
  }
 },
 "nbformat": 4,
 "nbformat_minor": 2
}
