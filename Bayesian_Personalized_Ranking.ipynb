{
 "cells": [
  {
   "cell_type": "code",
   "execution_count": 1,
   "metadata": {},
   "outputs": [],
   "source": [
    "import gzip\n",
    "from collections import defaultdict\n",
    "from sklearn import linear_model\n",
    "import csv\n",
    "import gzip\n",
    "import random\n",
    "import scipy\n",
    "import tensorflow as tf\n",
    "from collections import defaultdict\n",
    "from implicit import bpr\n",
    "\n",
    "def readGz(path):\n",
    "    for l in gzip.open(path, 'rt',encoding='utf8'):\n",
    "        yield eval(l)\n",
    "\n",
    "def readCSV(path):\n",
    "    f = gzip.open(path, 'rt')\n",
    "    c = csv.reader(f)\n",
    "    header = next(c)\n",
    "    for l in c:\n",
    "        d = dict(zip(header,l))\n",
    "        yield d['user_id'],d['recipe_id'],d"
   ]
  },
  {
   "cell_type": "code",
   "execution_count": 2,
   "metadata": {},
   "outputs": [],
   "source": [
    "allRatings = []\n",
    "\n",
    "userRatings = defaultdict(list)\n",
    "recipeRatings = defaultdict(list)\n",
    "\n",
    "for user,recipe,d in readCSV(\"C:/Users/brand/Desktop/trainInteractions.csv.gz\"):\n",
    "    r = int(d['rating'])\n",
    "    allRatings.append(r)\n",
    "    userRatings[user].append(r)\n",
    "    recipeRatings[recipe].append(r)\n",
    "\n",
    "Mu = sum(allRatings) / len(allRatings)"
   ]
  },
  {
   "cell_type": "code",
   "execution_count": 3,
   "metadata": {},
   "outputs": [],
   "source": [
    "userAverage = {}\n",
    "itemAverage = {}\n",
    "for u in userRatings:\n",
    "    userAverage[u] = sum(userRatings[u]) / len(userRatings[u])\n",
    "    \n",
    "for i in recipeRatings:\n",
    "    itemAverage[i] = sum(recipeRatings[i])/len(recipeRatings[i])\n",
    "\n",
    "\n",
    "userIDs = {}\n",
    "recipeIDs = {}\n",
    "interactions = []\n",
    "\n",
    "for user,recipe,d in readCSV(\"C:/Users/brand/Desktop/trainInteractions.csv.gz\"):\n",
    "    u = user\n",
    "    i = recipe\n",
    "    r = int(d['rating'])\n",
    "    if not u in userIDs: userIDs[u] = len(userIDs)\n",
    "    if not i in recipeIDs: recipeIDs[i] = len(recipeIDs)\n",
    "    interactions.append((u,i,r))\n",
    "\n",
    "interTrain = interactions[0:400000]\n",
    "interVal = interactions[400000:]\n",
    "\n"
   ]
  },
  {
   "cell_type": "code",
   "execution_count": 4,
   "metadata": {},
   "outputs": [
    {
     "name": "stdout",
     "output_type": "stream",
     "text": [
      "151462\n",
      "13533\n"
     ]
    }
   ],
   "source": [
    "import pandas as pd\n",
    "    \n",
    "def testvalsplit(path):\n",
    "    \n",
    "    f = gzip.open(path, 'rt')\n",
    "    data = pd.read_csv(f,dtype=str)    \n",
    "    train = data[0:400000]\n",
    "    val = data[400000:]\n",
    "    \n",
    "    \n",
    "    \n",
    "    return data,train,val\n",
    "\n",
    "\n",
    "d,t,v = testvalsplit(\"C:/Users/brand/Desktop/trainInteractions.csv.gz\")\n",
    "\n",
    "print(len(itemAverage))\n",
    "print(len(userAverage))\n",
    "\n",
    "\n"
   ]
  },
  {
   "cell_type": "code",
   "execution_count": 5,
   "metadata": {},
   "outputs": [
    {
     "name": "stderr",
     "output_type": "stream",
     "text": [
      "C:\\Users\\brand\\Anaconda3\\lib\\site-packages\\ipykernel_launcher.py:1: SettingWithCopyWarning: \n",
      "A value is trying to be set on a copy of a slice from a DataFrame.\n",
      "Try using .loc[row_indexer,col_indexer] = value instead\n",
      "\n",
      "See the caveats in the documentation: http://pandas.pydata.org/pandas-docs/stable/indexing.html#indexing-view-versus-copy\n",
      "  \"\"\"Entry point for launching an IPython kernel.\n"
     ]
    },
    {
     "name": "stdout",
     "output_type": "stream",
     "text": [
      "user_id        90764166\n",
      "recipe_id      01768679\n",
      "date         2011-09-10\n",
      "rating                5\n",
      "cooked                1\n",
      "Name: 400000, dtype: object\n"
     ]
    }
   ],
   "source": [
    "v['cooked'] = 1\n",
    "print(v.iloc[0,:])\n",
    "\n",
    "\n",
    "recipelst = []\n",
    "recipePerUser = defaultdict(set)\n",
    "\n",
    "\n",
    "for index,row in d.iterrows():\n",
    "    use = row['user_id']\n",
    "    rec = row['recipe_id']\n",
    "    recipelst.append(rec)\n",
    "    recipePerUser[use].add(rec)\n",
    "    \n",
    "recipelst = set(recipelst)\n",
    "recipelst = list(recipelst)\n"
   ]
  },
  {
   "cell_type": "code",
   "execution_count": 25,
   "metadata": {},
   "outputs": [],
   "source": [
    "import numpy as np\n",
    "import random\n",
    "\n",
    "recipeset = set(recipelst)\n",
    "\n",
    "\n",
    "lst = []\n",
    "\n",
    "\n",
    "for index, row in v.iterrows():\n",
    "    use = row['user_id']\n",
    "    rec = row['recipe_id']\n",
    "    date = row['date']\n",
    "    rat = 0\n",
    "    indx = np.random.randint(0,len(recipelst))\n",
    "    new_recipe = recipelst[indx]\n",
    "    lst.append([use,new_recipe,date,rat,0])"
   ]
  },
  {
   "cell_type": "code",
   "execution_count": 26,
   "metadata": {},
   "outputs": [
    {
     "name": "stdout",
     "output_type": "stream",
     "text": [
      "200000\n",
      "         user_id recipe_id        date rating  cooked\n",
      "400000  90764166  01768679  2011-09-10      5       1\n",
      "400001  68112239  24923981  2007-03-30      5       1\n",
      "400002  32173358  57597698  2009-01-16      4       1\n",
      "400003  30893740  16266088  2010-06-12      5       1\n",
      "400004  69780905  62953151  2004-02-10      5       1\n"
     ]
    }
   ],
   "source": [
    "columns = ['user_id','recipe_id','date','rating','cooked']\n",
    "index = np.arange(500000,600000)\n",
    "\n",
    "df = pd.DataFrame(lst,index,columns)\n",
    "\n",
    "val_set = pd.concat([v,df])\n",
    "\n",
    "print(len(val_set))\n",
    "print(val_set.head())\n"
   ]
  },
  {
   "cell_type": "code",
   "execution_count": 7,
   "metadata": {},
   "outputs": [
    {
     "data": {
      "text/plain": [
       "\"\\nreturn1 = set()\\ncount = 0\\nfor ic, i in mostPopular:\\n    count += ic\\n    return1.add(i)\\n    if count > totalCooked/2: \\n        break\\n\\n#correct = 0\\n\\n\\nfor index,row in val_set.iterrows():\\n    if row['recipe_id'] in return1:\\n        correct += (row['cooked'] != 0)\\n    \\n    else:\\n        correct += (row['cooked'] == 0)\\n\\nprint('Validation set accuracy:' + str(correct/len(val_set)))\\n\""
      ]
     },
     "execution_count": 7,
     "metadata": {},
     "output_type": "execute_result"
    }
   ],
   "source": [
    "recipeCount = defaultdict(int)\n",
    "totalCooked = 0\n",
    "\n",
    "for index,row in t.iterrows():\n",
    "    recipeCount[row['recipe_id']] += 1\n",
    "    totalCooked += 1\n",
    "\n",
    "mostPopular = [(recipeCount[x], x) for x in recipeCount]\n",
    "mostPopular.sort()\n",
    "mostPopular.reverse()\n",
    "\n",
    "\n",
    "'''\n",
    "return1 = set()\n",
    "count = 0\n",
    "for ic, i in mostPopular:\n",
    "    count += ic\n",
    "    return1.add(i)\n",
    "    if count > totalCooked/2: \n",
    "        break\n",
    "\n",
    "#correct = 0\n",
    "\n",
    "\n",
    "for index,row in val_set.iterrows():\n",
    "    if row['recipe_id'] in return1:\n",
    "        correct += (row['cooked'] != 0)\n",
    "    \n",
    "    else:\n",
    "        correct += (row['cooked'] == 0)\n",
    "\n",
    "print('Validation set accuracy:' + str(correct/len(val_set)))\n",
    "'''"
   ]
  },
  {
   "cell_type": "code",
   "execution_count": 8,
   "metadata": {},
   "outputs": [],
   "source": [
    "Xsparse = scipy.sparse.lil_matrix((len(recipeRatings),len(userRatings)))\n",
    "\n",
    "for index,row in t.iterrows():\n",
    "    u,i = row['user_id'],row['recipe_id']\n",
    "    Xsparse[recipeIDs[i],userIDs[u]] = 1\n",
    "    \n",
    "Xsparse = scipy.sparse.csr_matrix(Xsparse.T)"
   ]
  },
  {
   "cell_type": "code",
   "execution_count": 9,
   "metadata": {},
   "outputs": [
    {
     "name": "stderr",
     "output_type": "stream",
     "text": [
      "100%|██████████| 100/100 [00:02<00:00, 44.94it/s, correct=90.80%, skipped=0.82%]\n"
     ]
    }
   ],
   "source": [
    "model = bpr.BayesianPersonalizedRanking(factors=20)\n",
    "\n",
    "model.fit(Xsparse)"
   ]
  },
  {
   "cell_type": "code",
   "execution_count": 13,
   "metadata": {},
   "outputs": [
    {
     "name": "stderr",
     "output_type": "stream",
     "text": [
      "C:\\Users\\brand\\Anaconda3\\lib\\site-packages\\ipykernel_launcher.py:3: SettingWithCopyWarning: \n",
      "A value is trying to be set on a copy of a slice from a DataFrame.\n",
      "Try using .loc[row_indexer,col_indexer] = value instead\n",
      "\n",
      "See the caveats in the documentation: http://pandas.pydata.org/pandas-docs/stable/indexing.html#indexing-view-versus-copy\n",
      "  This is separate from the ipykernel package so we can avoid doing imports until\n"
     ]
    },
    {
     "name": "stdout",
     "output_type": "stream",
     "text": [
      "    user_id recipe_id        date rating  cooked\n",
      "0  88348277  03969194  2004-12-23      5       1\n",
      "1  86699739  27096427  2002-01-12      4       1\n",
      "2  03425965  44197323  2012-10-03      5       1\n",
      "3  73973193  24971400  2008-04-09      5       1\n",
      "4  15215209  60170202  2010-10-07      5       1\n",
      "800000\n",
      "    user_id recipe_id        date rating  cooked\n",
      "0  88348277  03969194  2004-12-23      5       1\n",
      "1  86699739  27096427  2002-01-12      4       1\n",
      "2  03425965  44197323  2012-10-03      5       1\n",
      "3  73973193  24971400  2008-04-09      5       1\n",
      "4  15215209  60170202  2010-10-07      5       1\n",
      "         user_id recipe_id        date rating  cooked\n",
      "799995  54496210  41675729  2008-08-23      0       0\n",
      "799996  43613845  05905421  2006-06-06      0       0\n",
      "799997  20028793  25325191  2009-03-08      0       0\n",
      "799998  97985933  68797434  2004-06-24      0       0\n",
      "799999  11959868  74909928  2007-06-12      0       0\n"
     ]
    }
   ],
   "source": [
    "\n",
    "\n",
    "t['cooked'] = 1\n",
    "\n",
    "print(t.head())\n",
    "\n",
    "\"\"\"All items in training set are cooked. Must incorporate noncooked items into training set for logistic regression\"\"\"\n",
    "\n",
    "tlst = []\n",
    "\n",
    "for index, row in t.iterrows():\n",
    "    use = row['user_id']\n",
    "    rec = row['recipe_id']\n",
    "    date = row['date']\n",
    "    rat = 0\n",
    "    \n",
    "    indx = np.random.randint(0,len(recipelst))\n",
    "    new_recipe = recipelst[indx]\n",
    "    tlst.append([use,new_recipe,date,rat,0])\n",
    "    \n",
    "columns = ['user_id','recipe_id','date','rating','cooked']\n",
    "index = np.arange(400000,800000)\n",
    "\n",
    "df2 = pd.DataFrame(tlst,index,columns)\n",
    "\n",
    "train = pd.concat([t,df2])\n",
    "\n",
    "print(len(train))\n",
    "print(train.head())\n",
    "print(train.tail())\n"
   ]
  },
  {
   "cell_type": "code",
   "execution_count": 14,
   "metadata": {},
   "outputs": [
    {
     "name": "stdout",
     "output_type": "stream",
     "text": [
      "50010\n",
      "set()\n",
      "set()\n",
      "set()\n"
     ]
    }
   ],
   "source": [
    "return1 = set()\n",
    "return2 = set()\n",
    "return3 = set()\n",
    "count = 0\n",
    "for ic, i in mostPopular:\n",
    "    if count < totalCooked/4:\n",
    "        count += ic\n",
    "        return1.add(i)\n",
    "    \n",
    "    elif count >= totalCooked/4 and count < totalCooked/2:\n",
    "        count += ic\n",
    "        return2.add(i)\n",
    "    \n",
    "    elif count >= totalCooked/2 and count < 3*totalCooked/4:\n",
    "        count +=ic\n",
    "        return3.add(i)\n",
    "        \n",
    "    \n",
    "    else:\n",
    "        break\n",
    "        \n",
    "\n",
    "print(len(return1) + len(return2) + len(return3))\n",
    "print(return1.intersection(return2))\n",
    "print(return2.intersection(return3))\n",
    "print(return3.intersection(return1))\n",
    "    \n",
    "   "
   ]
  },
  {
   "cell_type": "code",
   "execution_count": 15,
   "metadata": {},
   "outputs": [],
   "source": [
    "def Jaccard(s1,s2):\n",
    "    numer = len(s1.intersection(s2))\n",
    "    denom = len(s1.union(s2))\n",
    "    if denom == 0:\n",
    "        return 0\n",
    "    \n",
    "    return numer/denom\n",
    "\n",
    "usersPerRecipe = defaultdict(set)\n",
    "recipesPerUser = defaultdict(set)\n",
    "\n",
    "for index, row in t.iterrows():\n",
    "    user,recipe = row['user_id'],row['recipe_id']\n",
    "    usersPerRecipe[recipe].add(user)\n",
    "    recipesPerUser[user].add(recipe)\n",
    "\n",
    "\n",
    "\n",
    "            \n"
   ]
  },
  {
   "cell_type": "code",
   "execution_count": 16,
   "metadata": {},
   "outputs": [],
   "source": [
    "def jacfinder(user,item):\n",
    "    \n",
    "    jacs = []\n",
    "        \n",
    "    recipeset = list(recipesPerUser[user])\n",
    "        \n",
    "    for i in recipeset:\n",
    "        if i == item:\n",
    "            continue\n",
    "            \n",
    "        sim = Jaccard(usersPerRecipe[i],usersPerRecipe[item])\n",
    "        jacs.append(sim)\n",
    "    \n",
    "    if len(jacs) > 0:\n",
    "        return max(jacs)\n",
    "    \n",
    "    return 0\n",
    "            "
   ]
  },
  {
   "cell_type": "code",
   "execution_count": 17,
   "metadata": {},
   "outputs": [
    {
     "name": "stdout",
     "output_type": "stream",
     "text": [
      "[-1.3478975, 0.30834872, -0.38887686, 0.25709724, 1.3696382, -0.82923603, 1.0554105, -0.68341345, -0.5220155, -0.5220077, 1.257014, -1.218342, -0.12035619, 0.50496954, -0.19915546, -0.615369, -0.010041287, 0.42375857, 1.5902828, 0.43235794, -0.45055562, -0.31654572, 0.34982523, -0.26176143, 0.006704752, 0.25558725, -0.021249041, 0.26165432, -0.04160688, 0.2106823, 0.024320116, 0.2701392, -0.18119806, 0.008939141, 0.13209063, 0.06041354, 0.07439145, 0.09460471, -0.05647614, 0.30153677, -0.3362417, 1.0, 0.2, 0, 1, 0, 1]\n"
     ]
    }
   ],
   "source": [
    "features = []\n",
    "\n",
    "itemFactors = model.item_factors\n",
    "userFactors = model.user_factors\n",
    "\n",
    "\n",
    "'''items and users are switched because model was built on transpose of matrix'''\n",
    "\n",
    "\n",
    "for index,row in train.iterrows():\n",
    "    lst = []\n",
    "    use = row['user_id']\n",
    "    rec = row['recipe_id']\n",
    "    cook = row['cooked']\n",
    "    jac = jacfinder(use,rec)\n",
    "    pop = [0,0,0]\n",
    "    item_factors_index = userIDs[use]\n",
    "    user_factors_index = recipeIDs[rec]\n",
    "    user_factors = itemFactors[item_factors_index]\n",
    "    item_factors = userFactors[user_factors_index]\n",
    "    \n",
    "    for i in user_factors:\n",
    "        lst.append(i)\n",
    "        \n",
    "    for j in item_factors:\n",
    "        lst.append(j)\n",
    "        \n",
    "    if rec in return1:\n",
    "        pop[0] = 1\n",
    "    \n",
    "    if rec in return2:\n",
    "        pop[1] = 1\n",
    "        \n",
    "    if rec in return3:\n",
    "        pop[2] = 1\n",
    "    \n",
    "    lst.append(jac)\n",
    "    \n",
    "    for k in pop:\n",
    "        lst.append(k)\n",
    "        \n",
    "    lst.append(cook)\n",
    "    \n",
    "    features.append(lst)\n",
    "\n",
    "print(features[0])\n",
    "\n",
    "\n",
    "\n"
   ]
  },
  {
   "cell_type": "code",
   "execution_count": 69,
   "metadata": {},
   "outputs": [
    {
     "name": "stdout",
     "output_type": "stream",
     "text": [
      "47\n",
      "    user_id recipe_id        date rating  cooked\n",
      "0  88348277  03969194  2004-12-23      5       1\n",
      "1  86699739  27096427  2002-01-12      4       1\n",
      "2  03425965  44197323  2012-10-03      5       1\n",
      "3  73973193  24971400  2008-04-09      5       1\n",
      "4  15215209  60170202  2010-10-07      5       1\n"
     ]
    }
   ],
   "source": [
    "print(len(features[0]))\n",
    "print(train.head())\n"
   ]
  },
  {
   "cell_type": "code",
   "execution_count": 19,
   "metadata": {},
   "outputs": [],
   "source": [
    "columns = np.arange(0,47)\n",
    "index = np.arange(0,800000)\n",
    "\n",
    "dftrain = pd.DataFrame(features,index,columns)\n",
    "#print(dftrain.head())\n",
    "\n",
    "\n",
    "xtrain = dftrain[np.arange(0,46)]\n",
    "ytrain = dftrain[[46]]\n",
    "ytrain = np.array(ytrain)\n",
    "ytrain = ytrain.flatten()\n"
   ]
  },
  {
   "cell_type": "code",
   "execution_count": 20,
   "metadata": {},
   "outputs": [
    {
     "name": "stdout",
     "output_type": "stream",
     "text": [
      "[-0.07175326, -0.8379519, 0.87732226, 0.04911443, -0.3386144, 0.7689721, 0.4267238, -0.40463054, 0.09862076, 0.00972563, -2.1377075, 0.74528915, 0.24726506, 0.7377541, 0.716959, -1.0289389, 1.7711493, -0.103238985, 0.63920176, 0.37610194, -0.37779573, 0.018907947, 0.45346135, 0.5770398, 0.3886331, -0.043311987, -0.30446708, -0.053528037, -0.11054357, 0.36426923, -0.0007320005, -0.10639218, 0.13408092, -0.09890947, -0.21855304, 0.045118924, 0.2084963, -0.27869982, -0.012766888, -0.3493072, -0.115708984, 1.0, 0.08333333333333333, 0, 1, 0, 1]\n"
     ]
    }
   ],
   "source": [
    "features2 = []\n",
    "\n",
    "itemFactors = model.item_factors\n",
    "userFactors = model.user_factors\n",
    "\n",
    "\n",
    "'''items and users are switched because model was built on transpose of matrix'''\n",
    "\n",
    "\n",
    "for index,row in val_set.iterrows():\n",
    "    lst = []\n",
    "    use = row['user_id']\n",
    "    rec = row['recipe_id']\n",
    "    cook = row['cooked']\n",
    "    jac = jacfinder(use,rec)\n",
    "    pop = [0,0,0]\n",
    "    item_factors_index = userIDs[use]\n",
    "    user_factors_index = recipeIDs[rec]\n",
    "    user_factors = itemFactors[item_factors_index]\n",
    "    item_factors = userFactors[user_factors_index]\n",
    "    \n",
    "    for i in user_factors:\n",
    "        lst.append(i)\n",
    "        \n",
    "    for j in item_factors:\n",
    "        lst.append(j)\n",
    "        \n",
    "    if rec in return1:\n",
    "        pop[0] = 1\n",
    "    \n",
    "    if rec in return2:\n",
    "        pop[1] = 1\n",
    "        \n",
    "    if rec in return3:\n",
    "        pop[2] = 1\n",
    "    \n",
    "    lst.append(jac)\n",
    "    \n",
    "    for k in pop:\n",
    "        lst.append(k)\n",
    "        \n",
    "    lst.append(cook)\n",
    "    \n",
    "    features2.append(lst)\n",
    "\n",
    "print(features2[0])\n"
   ]
  },
  {
   "cell_type": "code",
   "execution_count": 31,
   "metadata": {},
   "outputs": [],
   "source": [
    "from sklearn.linear_model import LogisticRegression\n",
    "\n",
    "\n",
    "columns = np.arange(0,47)\n",
    "index2 = np.arange(0,200000)\n",
    "dfval = pd.DataFrame(features2,index2,columns)\n",
    "\n",
    "xval = dfval[np.arange(0,46)]\n",
    "yval = dfval[[46]] \n",
    "yval = np.array(yval)\n",
    "yval = yval.flatten()\n",
    "\n",
    "\n",
    "\n",
    "\n",
    "\n",
    "log = LogisticRegression(class_weight='balanced', C=0.0001).fit(xtrain,ytrain)\n",
    "\n",
    "\n",
    "preds = log.predict(xval)"
   ]
  },
  {
   "cell_type": "code",
   "execution_count": 77,
   "metadata": {},
   "outputs": [
    {
     "name": "stdout",
     "output_type": "stream",
     "text": [
      "0.66228\n",
      "[True, False, False, False, True, False, False, True, False, False]\n",
      "53662\n",
      "200000\n"
     ]
    }
   ],
   "source": [
    "error = [(p == l) for p,l in zip(preds,yval)]\n",
    "\n",
    "print(sum(error)/len(error))\n",
    "print(error[0:10])\n",
    "print(sum(preds))\n",
    "print(len(preds))\n"
   ]
  },
  {
   "cell_type": "code",
   "execution_count": 80,
   "metadata": {},
   "outputs": [],
   "source": [
    "predictions = open(\"C:/Users/brand/Desktop/predictions_Made.txt\", 'w')\n",
    "for l in open(\"C:/Users/brand/Desktop/stub_Made.txt\"):\n",
    "    if l.startswith(\"user_id\"):\n",
    "    #header\n",
    "        predictions.write(l)\n",
    "        continue\n",
    "    \n",
    "    u, i = l.strip().split('-')\n",
    "    \n",
    "    pred = 0\n",
    "    user_recipes = list(recipesPerUser[u])\n",
    "        \n",
    "    for j in user_recipes:\n",
    "        if j == i:\n",
    "            continue\n",
    "        sim = Jaccard(usersPerRecipe[j],usersPerRecipe[i])\n",
    "            \n",
    "        if sim > 0.008:\n",
    "            pred = 1\n",
    "        \n",
    "    if (i in return1 or i in return2) and pred ==1:\n",
    "        predictions.write(u + '-' + i + \",1\\n\")\n",
    "        continue\n",
    "            \n",
    "        \n",
    "    else:\n",
    "        predictions.write(u + '-' + i + \",0\\n\")\n",
    "        continue\n",
    "    \n",
    "   \n",
    "\n",
    "predictions.close()"
   ]
  },
  {
   "cell_type": "code",
   "execution_count": 17,
   "metadata": {},
   "outputs": [],
   "source": [
    "items = list(recipeIDs.keys())\n",
    "\n",
    "\n",
    "class BPRbatch(tf.keras.Model):\n",
    "    def __init__(self, K, lamb):\n",
    "        super(BPRbatch, self).__init__()\n",
    "        # Initialize variables\n",
    "        self.betaI = tf.Variable(tf.random.normal([len(recipeIDs)],stddev=0.001))\n",
    "        self.gammaU = tf.Variable(tf.random.normal([len(userIDs),K],stddev=0.001))\n",
    "        self.gammaI = tf.Variable(tf.random.normal([len(recipeIDs),K],stddev=0.001))\n",
    "        # Regularization coefficient\n",
    "        self.lamb = lamb\n",
    "\n",
    "    # Prediction for a single instance\n",
    "    def predict(self, u, i):\n",
    "        p = self.betaI[i] + tf.tensordot(self.gammaU[u], self.gammaI[i], 1)\n",
    "        return p\n",
    "\n",
    "    # Regularizer\n",
    "    def reg(self):\n",
    "        return self.lamb * (tf.nn.l2_loss(self.betaI) +\\\n",
    "                            tf.nn.l2_loss(self.gammaU) +\\\n",
    "                            tf.nn.l2_loss(self.gammaI))\n",
    "    \n",
    "    def score(self, sampleU, sampleI):\n",
    "        u = tf.convert_to_tensor(sampleU, dtype=tf.int32)\n",
    "        i = tf.convert_to_tensor(sampleI, dtype=tf.int32)\n",
    "        beta_i = tf.nn.embedding_lookup(self.betaI, i)\n",
    "        gamma_u = tf.nn.embedding_lookup(self.gammaU, u)\n",
    "        gamma_i = tf.nn.embedding_lookup(self.gammaI, i)\n",
    "        x_ui = beta_i + tf.reduce_sum(tf.multiply(gamma_u, gamma_i), 1)\n",
    "        return x_ui\n",
    "\n",
    "    def call(self, sampleU, sampleI, sampleJ):\n",
    "        x_ui = self.score(sampleU, sampleI)\n",
    "        x_uj = self.score(sampleU, sampleJ)\n",
    "        return -tf.reduce_mean(tf.math.log(tf.math.sigmoid(x_ui - x_uj)))        "
   ]
  },
  {
   "cell_type": "code",
   "execution_count": 18,
   "metadata": {},
   "outputs": [],
   "source": [
    "optimizer = tf.keras.optimizers.Adam(0.01)\n",
    "\n",
    "modelBPR = BPRbatch(20, 0.000015)\n",
    "\n"
   ]
  },
  {
   "cell_type": "code",
   "execution_count": 19,
   "metadata": {},
   "outputs": [],
   "source": [
    "def trainingStepBPR(model, interactions):\n",
    "    Nsamples = 50000\n",
    "    with tf.GradientTape() as tape:\n",
    "        sampleU, sampleI, sampleJ = [], [], []\n",
    "        for _ in range(Nsamples):\n",
    "            u,i,_ = random.choice(interactions) # positive sample\n",
    "            j = random.choice(items) # negative sample\n",
    "            while j in recipesPerUser[u]:\n",
    "                j = random.choice(items)\n",
    "            sampleU.append(userIDs[u])\n",
    "            sampleI.append(recipeIDs[i])\n",
    "            sampleJ.append(recipeIDs[j])\n",
    "\n",
    "        loss = model(sampleU,sampleI,sampleJ)\n",
    "        loss += model.reg()\n",
    "    gradients = tape.gradient(loss, model.trainable_variables)\n",
    "    optimizer.apply_gradients((grad, var) for\n",
    "                              (grad, var) in zip(gradients, model.trainable_variables)\n",
    "                              if grad is not None)\n",
    "    return loss.numpy()"
   ]
  },
  {
   "cell_type": "code",
   "execution_count": 50,
   "metadata": {},
   "outputs": [
    {
     "name": "stdout",
     "output_type": "stream",
     "text": [
      "iteration 10, objective = 0.56568336\n",
      "iteration 20, objective = 0.5634785\n",
      "iteration 30, objective = 0.5639291\n",
      "iteration 40, objective = 0.5639781\n",
      "iteration 50, objective = 0.564836\n",
      "iteration 60, objective = 0.56491697\n",
      "iteration 70, objective = 0.566018\n",
      "iteration 80, objective = 0.5615854\n",
      "iteration 90, objective = 0.561391\n",
      "iteration 100, objective = 0.56184155\n"
     ]
    }
   ],
   "source": [
    "for i in range(100):\n",
    "    obj = trainingStepBPR(modelBPR, interTrain)\n",
    "    if (i % 10 == 9): print(\"iteration \" + str(i+1) + \", objective = \" + str(obj))"
   ]
  },
  {
   "cell_type": "code",
   "execution_count": 22,
   "metadata": {},
   "outputs": [
    {
     "name": "stdout",
     "output_type": "stream",
     "text": [
      "hi\n",
      "hi\n",
      "-2.0893147\n",
      "10.368451\n"
     ]
    }
   ],
   "source": [
    "import math\n",
    "u,i,_ = interVal[0]\n",
    "\n",
    "modelBPR.predict(userIDs[u],recipeIDs[i]).numpy()\n",
    "correct = 0\n",
    "\n",
    "pos = []\n",
    "count = 0\n",
    "for i in range(len(interTrain)):\n",
    "    user,recipe,_ = interTrain[i]\n",
    "    score = modelBPR.predict(userIDs[user],recipeIDs[recipe]).numpy()\n",
    "    pos.append(score)\n",
    "    count +=1 \n",
    "    \n",
    "    if count == 100000 or count == 250000 or count == 450000:\n",
    "        print('hi')\n",
    "\n",
    "\n",
    "    \n",
    "    \n",
    "print(min(pos))\n",
    "print(max(pos))\n",
    "  \n",
    "\n",
    "\n",
    "\n",
    "\n"
   ]
  },
  {
   "cell_type": "code",
   "execution_count": 28,
   "metadata": {},
   "outputs": [
    {
     "name": "stdout",
     "output_type": "stream",
     "text": [
      "0.8213277312667646\n",
      "0.675895\n",
      "0.68108\n",
      "[0.675895, 0.68108]\n"
     ]
    }
   ],
   "source": [
    "t_avg = sum(pos)/len(pos)\n",
    "print(t_avg)\n",
    "\n",
    "pos.sort(reverse=True)\n",
    "\n",
    "values = []\n",
    "liverpool = [1.2,1.25]\n",
    "\n",
    "for i in liverpool:\n",
    "    correct = 0\n",
    "    for index,row in val_set.iterrows():\n",
    "    \n",
    "        use = row['user_id']\n",
    "        rec = row['recipe_id']\n",
    "        guess = 0\n",
    "        pred = modelBPR.predict(userIDs[use],recipeIDs[rec]).numpy()\n",
    "        if pred > pos[round(len(pos)/i)]:\n",
    "            guess = 1\n",
    "    \n",
    "        if guess == row['cooked']:\n",
    "            correct += 1\n",
    "        \n",
    "        \n",
    "        \n",
    "    print(correct/len(val_set))\n",
    "    values.append(correct/len(val_set))\n",
    "    correct = 0\n",
    "\n",
    "print(values)\n"
   ]
  },
  {
   "cell_type": "code",
   "execution_count": 51,
   "metadata": {},
   "outputs": [],
   "source": [
    "return1 = set()\n",
    "\n",
    "count = 0\n",
    "for ic, i in mostPopular:\n",
    "    count += ic\n",
    "    return1.add(i)\n",
    "    if count > totalCooked/1.7:\n",
    "        break"
   ]
  },
  {
   "cell_type": "code",
   "execution_count": 31,
   "metadata": {},
   "outputs": [
    {
     "name": "stdout",
     "output_type": "stream",
     "text": [
      "0.66448\n"
     ]
    }
   ],
   "source": [
    "correct = 0\n",
    "for index,row in val_set.iterrows():\n",
    "    \n",
    "    jthresh = 0\n",
    "    popthresh = 0\n",
    "    bprthresh = 0\n",
    "    guess = 0\n",
    "    \n",
    "    user,recipe = row['user_id'],row['recipe_id']\n",
    "    \n",
    "    recipeset = list(recipesPerUser[user])\n",
    "    \n",
    "    for i in recipeset:\n",
    "        if i == recipe:\n",
    "            continue\n",
    "        \n",
    "        sim = Jaccard(usersPerRecipe[i],usersPerRecipe[recipe])\n",
    "        \n",
    "        if sim > 0.0086:\n",
    "            jthresh = 1\n",
    "            break\n",
    "     \n",
    "        \n",
    "    if recipe in return1:\n",
    "        popthresh = 1\n",
    "        \n",
    "    pred = modelBPR.predict(userIDs[user],recipeIDs[recipe]).numpy()\n",
    "    \n",
    "    if pred > pos[round(len(pos)/1.27)]:\n",
    "        bprthresh = 1\n",
    "    \n",
    "    \n",
    "    if jthresh == 1 and bprthresh == 1 and popthresh == 1:\n",
    "        guess = 1\n",
    "    \n",
    "    if guess == row['cooked']:\n",
    "        correct += 1\n",
    "    \n",
    "print(correct/len(val_set))\n",
    "        \n",
    "    \n",
    "        \n",
    "    \n",
    "        "
   ]
  },
  {
   "cell_type": "code",
   "execution_count": 52,
   "metadata": {},
   "outputs": [],
   "source": [
    "import random\n",
    "count = 0\n",
    "\n",
    "predictions = open(\"C:/Users/brand/Desktop/predictions_Made.txt\", 'w')\n",
    "for l in open(\"C:/Users/brand/Desktop/stub_Made.txt\"):\n",
    "    if l.startswith(\"user_id\"):\n",
    "    #header\n",
    "        predictions.write(l)\n",
    "        continue\n",
    "    \n",
    "    u, i = l.strip().split('-')\n",
    "    \n",
    "    if u not in userIDs.keys() or i not in recipeIDs.keys():\n",
    "        pred = 0\n",
    "        user_recipes = list(recipesPerUser[u])\n",
    "        \n",
    "        for j in user_recipes:\n",
    "            if j == i:\n",
    "                continue\n",
    "            sim = Jaccard(usersPerRecipe[j],usersPerRecipe[i])\n",
    "            \n",
    "            if sim > 0.0086:\n",
    "                pred = 1\n",
    "        \n",
    "        if i in return1 and pred ==1:\n",
    "            predictions.write(u + '-' + i + \",1\\n\")\n",
    "            continue\n",
    "        \n",
    "        else:\n",
    "            predictions.write(u + '-' + i + \",0\\n\")\n",
    "            continue\n",
    "    \n",
    "    #jthresh = 0\n",
    "    #popthresh = 0\n",
    "    bprthresh = 0\n",
    "    guess = 0\n",
    "    \n",
    "    #recipeset = list(recipesPerUser[u])\n",
    "    \n",
    "    #for j in recipeset:\n",
    "     #   if j == i:\n",
    "      #      continue\n",
    "        \n",
    "       # sim = Jaccard(usersPerRecipe[j],usersPerRecipe[i])\n",
    "        \n",
    "        #if sim > 0.0086:\n",
    "         #   jthresh = 1\n",
    "          #  break\n",
    "        \n",
    "        \n",
    "    #if i in return1:\n",
    "     #   popthresh = 1\n",
    "        \n",
    "    pred = modelBPR.predict(userIDs[u],recipeIDs[i]).numpy()\n",
    "    \n",
    "    if pred > pos[round(len(pos)/1.33)] or i in return1:\n",
    "        bprthresh = 1\n",
    "    \n",
    "    if bprthresh == 1:\n",
    "        guess = 1\n",
    "\n",
    "    \n",
    "    predictions.write(u+ '-' + i + \",\" + str(guess) + \"\\n\")\n",
    "        \n",
    "\n",
    "predictions.close()\n"
   ]
  }
 ],
 "metadata": {
  "kernelspec": {
   "display_name": "Python 3",
   "language": "python",
   "name": "python3"
  },
  "language_info": {
   "codemirror_mode": {
    "name": "ipython",
    "version": 3
   },
   "file_extension": ".py",
   "mimetype": "text/x-python",
   "name": "python",
   "nbconvert_exporter": "python",
   "pygments_lexer": "ipython3",
   "version": "3.7.3"
  }
 },
 "nbformat": 4,
 "nbformat_minor": 2
}
